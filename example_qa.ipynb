{
 "cells": [
  {
   "attachments": {},
   "cell_type": "markdown",
   "metadata": {},
   "source": [
    "A test run for AQ module (not trained)"
   ]
  },
  {
   "cell_type": "code",
   "execution_count": 1,
   "metadata": {},
   "outputs": [
    {
     "name": "stderr",
     "output_type": "stream",
     "text": [
      "/common/home/sks272/.local/lib/python3.8/site-packages/tqdm/auto.py:21: TqdmWarning: IProgress not found. Please update jupyter and ipywidgets. See https://ipywidgets.readthedocs.io/en/stable/user_install.html\n",
      "  from .autonotebook import tqdm as notebook_tqdm\n"
     ]
    }
   ],
   "source": [
    "import torch\n",
    "from transformers import T5Tokenizer\n",
    "from models import EmbeddingLayer, PrimalDualEncoder, QuestionAnsweringOutputLayer"
   ]
  },
  {
   "cell_type": "code",
   "execution_count": 2,
   "metadata": {},
   "outputs": [],
   "source": [
    "tokenizer = T5Tokenizer.from_pretrained('t5-small', model_max_length = 512)\n",
    "pretrained_t5_name = 't5-small'\n",
    "d_model = 512 # for t5-small"
   ]
  },
  {
   "cell_type": "code",
   "execution_count": 3,
   "metadata": {},
   "outputs": [],
   "source": [
    "# Example passage, answer, and question\n",
    "passage = \"The Eiffel Tower is a wrought-iron lattice tower on the Champ de Mars in Paris, France.\"\n",
    "answer = \"Eiffel Tower\"\n",
    "question = \"What is the famous iron lattice tower located in Paris?\""
   ]
  },
  {
   "cell_type": "code",
   "execution_count": 4,
   "metadata": {},
   "outputs": [],
   "source": [
    "# Tokenize the passage, answer, and question\n",
    "passage_tokens = tokenizer.tokenize(passage)\n",
    "question_tokens = tokenizer.tokenize(question)"
   ]
  },
  {
   "cell_type": "code",
   "execution_count": 5,
   "metadata": {},
   "outputs": [],
   "source": [
    "# Create input_ids for AQ\n",
    "input_ids = tokenizer.convert_tokens_to_ids(passage_tokens + question_tokens)\n",
    "input_ids = torch.tensor([input_ids])  # Add batch dimension\n",
    "\n",
    "# Create task IDs tensor (0 for question generation, 1 for question answering, 2 for KD)\n",
    "task_id = 1  # Question answering\n",
    "task_ids = torch.tensor([[task_id] * len(input_ids[0])])\n",
    "\n",
    "# Create segment IDs tensor (0 for passage, 2 for question)\n",
    "segment_ids = torch.tensor([[0] * len(passage_tokens) + [2] * len(question_tokens)])"
   ]
  },
  {
   "cell_type": "code",
   "execution_count": 6,
   "metadata": {},
   "outputs": [],
   "source": [
    "embedding_layer = EmbeddingLayer(pretrained_t5_name, d_model)\n",
    "embeddings = embedding_layer(input_ids, task_ids, segment_ids)"
   ]
  },
  {
   "cell_type": "code",
   "execution_count": 8,
   "metadata": {},
   "outputs": [],
   "source": [
    "def create_attention_mask(input_ids):\n",
    "    return (input_ids != tokenizer.pad_token_id)\n",
    "\n",
    "attention_mask = create_attention_mask(input_ids)"
   ]
  },
  {
   "cell_type": "code",
   "execution_count": 9,
   "metadata": {},
   "outputs": [],
   "source": [
    "# Forward pass through PrimalDualEncoder\n",
    "primal_dual_encoder = PrimalDualEncoder(pretrained_t5_name)\n",
    "encoder_outputs = primal_dual_encoder(embeddings, attention_mask)"
   ]
  },
  {
   "cell_type": "code",
   "execution_count": 10,
   "metadata": {},
   "outputs": [],
   "source": [
    "# Instantiate the QuestionAnsweringOutputLayer\n",
    "qa_output_layer = QuestionAnsweringOutputLayer(d_model)\n",
    "start_scores, end_scores, start_probs, end_probs = qa_output_layer(encoder_outputs, attention_mask)"
   ]
  },
  {
   "cell_type": "code",
   "execution_count": 21,
   "metadata": {},
   "outputs": [
    {
     "data": {
      "text/plain": [
       "(31, 38)"
      ]
     },
     "execution_count": 21,
     "metadata": {},
     "output_type": "execute_result"
    }
   ],
   "source": [
    "# Find the best start and end indices\n",
    "best_start_idx = torch.argmax(start_probs, dim=-1).item()\n",
    "best_end_idx = torch.argmax(end_probs, dim=-1).item()\n",
    "\n",
    "best_start_idx, best_end_idx"
   ]
  },
  {
   "cell_type": "code",
   "execution_count": 22,
   "metadata": {},
   "outputs": [],
   "source": [
    "# Extract the answer span\n",
    "answer_span_tokens = (passage_tokens + question_tokens)[best_start_idx:best_end_idx+1]\n",
    "answer_span = tokenizer.convert_tokens_to_string(answer_span_tokens)"
   ]
  },
  {
   "cell_type": "code",
   "execution_count": 23,
   "metadata": {},
   "outputs": [
    {
     "name": "stdout",
     "output_type": "stream",
     "text": [
      "Answer span: lattice tower located in Paris\n"
     ]
    }
   ],
   "source": [
    "print(f\"Answer span: {answer_span}\")"
   ]
  }
 ],
 "metadata": {
  "kernelspec": {
   "display_name": "Python 3",
   "language": "python",
   "name": "python3"
  },
  "language_info": {
   "codemirror_mode": {
    "name": "ipython",
    "version": 3
   },
   "file_extension": ".py",
   "mimetype": "text/x-python",
   "name": "python",
   "nbconvert_exporter": "python",
   "pygments_lexer": "ipython3",
   "version": "3.8.10"
  },
  "orig_nbformat": 4,
  "vscode": {
   "interpreter": {
    "hash": "916dbcbb3f70747c44a77c7bcd40155683ae19c65e1c03b4aa3499c5328201f1"
   }
  }
 },
 "nbformat": 4,
 "nbformat_minor": 2
}

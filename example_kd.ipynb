{
 "cells": [
  {
   "cell_type": "code",
   "execution_count": 1,
   "metadata": {},
   "outputs": [
    {
     "name": "stderr",
     "output_type": "stream",
     "text": [
      "/common/home/sks272/.local/lib/python3.8/site-packages/tqdm/auto.py:21: TqdmWarning: IProgress not found. Please update jupyter and ipywidgets. See https://ipywidgets.readthedocs.io/en/stable/user_install.html\n",
      "  from .autonotebook import tqdm as notebook_tqdm\n"
     ]
    }
   ],
   "source": [
    "import torch\n",
    "from transformers import T5Tokenizer\n",
    "from models import EmbeddingLayer, KnowledgeDistillation, PrimalDualEncoder\n",
    "import random"
   ]
  },
  {
   "cell_type": "code",
   "execution_count": 2,
   "metadata": {},
   "outputs": [],
   "source": [
    "tokenizer = T5Tokenizer.from_pretrained('t5-small', model_max_length = 512)\n",
    "pretrained_t5_name = 't5-small'\n",
    "d_model = 512 # for t5-small"
   ]
  },
  {
   "cell_type": "code",
   "execution_count": 3,
   "metadata": {},
   "outputs": [],
   "source": [
    "# Example passage, answer, and question\n",
    "passage = \"The Eiffel Tower is a wrought-iron lattice tower on the Champ de Mars in Paris, France.\"\n",
    "answer = \"Eiffel Tower\"\n",
    "question = \"What is the famous iron lattice tower located in Paris?\""
   ]
  },
  {
   "cell_type": "code",
   "execution_count": 4,
   "metadata": {},
   "outputs": [],
   "source": [
    "# Tokenize the passage, answer, and question\n",
    "passage_tokens = tokenizer.tokenize(passage)"
   ]
  },
  {
   "cell_type": "code",
   "execution_count": 5,
   "metadata": {},
   "outputs": [],
   "source": [
    "# Create a mask for the input tokens\n",
    "def create_distillation_mask(tokens, mask_rate=0.15):\n",
    "    mask = [random.random() < mask_rate for _ in tokens]\n",
    "    return mask"
   ]
  },
  {
   "cell_type": "code",
   "execution_count": 6,
   "metadata": {},
   "outputs": [],
   "source": [
    "# Create input_ids for KD\n",
    "input_ids = tokenizer.convert_tokens_to_ids(passage_tokens)\n",
    "input_ids = torch.tensor([input_ids])  # Add batch dimension"
   ]
  },
  {
   "cell_type": "code",
   "execution_count": 7,
   "metadata": {},
   "outputs": [],
   "source": [
    "# Create task IDs tensor (0 for question generation, 1 for question answering, 2 for KD)\n",
    "task_id = 2  # Knowledge distillation\n",
    "task_ids = torch.tensor([[task_id] * len(input_ids[0])])\n",
    "\n",
    "# Create segment IDs tensor (0 for passage)\n",
    "segment_ids = torch.tensor([[0] * len(passage_tokens)])"
   ]
  },
  {
   "cell_type": "code",
   "execution_count": 8,
   "metadata": {},
   "outputs": [],
   "source": [
    "# Forward pass through the embedding layer\n",
    "embedding_layer = EmbeddingLayer(pretrained_t5_name, d_model)\n",
    "embeddings = embedding_layer(input_ids, task_ids, segment_ids)"
   ]
  },
  {
   "cell_type": "code",
   "execution_count": 9,
   "metadata": {},
   "outputs": [],
   "source": [
    "def create_attention_mask(input_ids):\n",
    "    return (input_ids != tokenizer.pad_token_id)\n",
    "attention_mask = create_attention_mask(input_ids)"
   ]
  },
  {
   "cell_type": "code",
   "execution_count": 10,
   "metadata": {},
   "outputs": [],
   "source": [
    "# Forward pass through PrimalDualEncoder\n",
    "primal_dual_encoder = PrimalDualEncoder(pretrained_t5_name)\n",
    "encoder_outputs = primal_dual_encoder(embeddings, attention_mask)"
   ]
  },
  {
   "cell_type": "code",
   "execution_count": 11,
   "metadata": {},
   "outputs": [
    {
     "name": "stderr",
     "output_type": "stream",
     "text": [
      "/common/home/sks272/.local/lib/python3.8/site-packages/transformers/models/t5/tokenization_t5.py:163: FutureWarning: This tokenizer was incorrectly instantiated with a model max length of 512 which will be corrected in Transformers v5.\n",
      "For now, this behavior is kept to avoid breaking backwards compatibility when padding/encoding with `truncation is True`.\n",
      "- Be aware that you SHOULD NOT rely on t5-small automatically truncating your input to 512 when padding/encoding.\n",
      "- If you want to encode/pad to sequences longer than 512 you can either instantiate this tokenizer with `model_max_length` or pass `max_length` when encoding/padding.\n",
      "- To avoid this warning, please instantiate this tokenizer with `model_max_length` set to your preferred value.\n",
      "  warnings.warn(\n"
     ]
    }
   ],
   "source": [
    "# Instantiate the KnowledgeDistillation\n",
    "kd_layer = KnowledgeDistillation(pretrained_t5_name, d_model, tokenizer.vocab_size)\n",
    "\n",
    "# Create a mask for distillation\n",
    "distillation_mask = create_distillation_mask(passage_tokens)\n",
    "distillation_mask_tensor = torch.tensor([distillation_mask], dtype=torch.bool)"
   ]
  },
  {
   "cell_type": "code",
   "execution_count": 12,
   "metadata": {},
   "outputs": [],
   "source": [
    "y_en, y_pre = kd_layer(input_ids, distillation_mask_tensor, encoder_outputs)"
   ]
  },
  {
   "cell_type": "code",
   "execution_count": null,
   "metadata": {},
   "outputs": [],
   "source": []
  }
 ],
 "metadata": {
  "kernelspec": {
   "display_name": "Python 3",
   "language": "python",
   "name": "python3"
  },
  "language_info": {
   "codemirror_mode": {
    "name": "ipython",
    "version": 3
   },
   "file_extension": ".py",
   "mimetype": "text/x-python",
   "name": "python",
   "nbconvert_exporter": "python",
   "pygments_lexer": "ipython3",
   "version": "3.8.10"
  },
  "orig_nbformat": 4,
  "vscode": {
   "interpreter": {
    "hash": "916dbcbb3f70747c44a77c7bcd40155683ae19c65e1c03b4aa3499c5328201f1"
   }
  }
 },
 "nbformat": 4,
 "nbformat_minor": 2
}

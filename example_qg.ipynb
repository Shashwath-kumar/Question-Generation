{
 "cells": [
  {
   "attachments": {},
   "cell_type": "markdown",
   "metadata": {},
   "source": [
    "A test run for QG module (not trained)"
   ]
  },
  {
   "cell_type": "code",
   "execution_count": 1,
   "metadata": {},
   "outputs": [
    {
     "name": "stderr",
     "output_type": "stream",
     "text": [
      "/common/home/sks272/.local/lib/python3.8/site-packages/tqdm/auto.py:21: TqdmWarning: IProgress not found. Please update jupyter and ipywidgets. See https://ipywidgets.readthedocs.io/en/stable/user_install.html\n",
      "  from .autonotebook import tqdm as notebook_tqdm\n"
     ]
    }
   ],
   "source": [
    "import torch\n",
    "from transformers import T5Tokenizer\n",
    "from models import EmbeddingLayer, PrimalDualEncoder, QuestionDecoder, QuestionGenerationOutputLayer"
   ]
  },
  {
   "cell_type": "code",
   "execution_count": 2,
   "metadata": {},
   "outputs": [],
   "source": [
    "tokenizer = T5Tokenizer.from_pretrained('t5-small', model_max_length = 512)\n",
    "pretrained_t5_name = 't5-small'\n",
    "d_model = 512 # for t5-small"
   ]
  },
  {
   "cell_type": "code",
   "execution_count": 3,
   "metadata": {},
   "outputs": [],
   "source": [
    "# Example passage, answer, and question\n",
    "passage = \"The Eiffel Tower is a wrought-iron lattice tower on the Champ de Mars in Paris, France.\"\n",
    "answer = \"Eiffel Tower\"\n",
    "question = \"What is the famous iron lattice tower located in Paris?\""
   ]
  },
  {
   "cell_type": "code",
   "execution_count": 4,
   "metadata": {},
   "outputs": [],
   "source": [
    "# Tokenize the passage, answer, and question\n",
    "passage_tokens = tokenizer.tokenize(passage)\n",
    "answer_tokens = tokenizer.tokenize(answer)"
   ]
  },
  {
   "cell_type": "code",
   "execution_count": 5,
   "metadata": {},
   "outputs": [],
   "source": [
    "# Create input IDs tensor\n",
    "input_ids = tokenizer.convert_tokens_to_ids(passage_tokens + answer_tokens)\n",
    "input_ids = torch.tensor([input_ids])  # Add batch dimension\n",
    "\n",
    "# Create task IDs tensor (0 for question generation, 1 for question answering, 2 for KD)\n",
    "task_id = 0  # Question generation\n",
    "task_ids = torch.tensor([[task_id] * len(input_ids[0])])\n",
    "\n",
    "# Create segment IDs tensor (0 for passage, 1 for answer, 2 for question)\n",
    "segment_ids = torch.tensor([[0] * len(passage_tokens) + [1] * len(answer_tokens)])"
   ]
  },
  {
   "cell_type": "code",
   "execution_count": 6,
   "metadata": {},
   "outputs": [],
   "source": [
    "embedding_layer = EmbeddingLayer(pretrained_t5_name, d_model)\n",
    "embeddings = embedding_layer(input_ids, task_ids, segment_ids)"
   ]
  },
  {
   "cell_type": "code",
   "execution_count": 7,
   "metadata": {},
   "outputs": [],
   "source": [
    "def create_attention_mask(input_ids):\n",
    "    return (input_ids != tokenizer.pad_token_id)\n",
    "\n",
    "attention_mask = create_attention_mask(input_ids)"
   ]
  },
  {
   "cell_type": "code",
   "execution_count": 8,
   "metadata": {},
   "outputs": [],
   "source": [
    "# Create PrimalDualEncoder and QuestionDecoder instances\n",
    "primal_dual_encoder = PrimalDualEncoder(pretrained_t5_name)\n",
    "encoder_outputs = primal_dual_encoder(embeddings, attention_mask)"
   ]
  },
  {
   "cell_type": "code",
   "execution_count": 9,
   "metadata": {},
   "outputs": [],
   "source": [
    "question_decoder = QuestionDecoder(pretrained_t5_name)"
   ]
  },
  {
   "cell_type": "code",
   "execution_count": 10,
   "metadata": {},
   "outputs": [],
   "source": [
    "# Prepare target_ids for the decoder\n",
    "target_tokens = tokenizer.tokenize(question)\n",
    "target_ids = tokenizer.convert_tokens_to_ids(target_tokens)\n",
    "target_ids = torch.tensor([target_ids])  # Add batch dimension\n",
    "\n",
    "# Create a mask for the target_ids\n",
    "target_attention_mask = create_attention_mask(target_ids)"
   ]
  },
  {
   "cell_type": "code",
   "execution_count": 11,
   "metadata": {},
   "outputs": [],
   "source": [
    "# Forward pass through the QuestionDecoder\n",
    "decoder_outputs = question_decoder(input_ids=target_ids,\n",
    "                                   attention_mask=target_attention_mask,\n",
    "                                   encoder_hidden_states=encoder_outputs)"
   ]
  },
  {
   "cell_type": "code",
   "execution_count": 12,
   "metadata": {},
   "outputs": [],
   "source": [
    "vocab_size = tokenizer.vocab_size\n",
    "qg_output_layer = QuestionGenerationOutputLayer(d_model, vocab_size)\n",
    "\n",
    "# Forward pass through the output layer\n",
    "logits, probabilities = qg_output_layer(decoder_outputs, encoder_outputs, attention_mask)"
   ]
  },
  {
   "cell_type": "code",
   "execution_count": 13,
   "metadata": {},
   "outputs": [],
   "source": [
    "# Greedy decoding\n",
    "generated_question = []\n",
    "max_sequence_length = 50  # Maximum sequence length for the generated question\n",
    "input_token = tokenizer.convert_tokens_to_ids(tokenizer.pad_token)  # Start with the CLS token\n",
    "task_id = 0  # Question generation\n",
    "segment_id = 2  # Question segment\n",
    "eos_token_id = tokenizer.eos_token_id\n",
    "for i in range(max_sequence_length):\n",
    "    input_ids = torch.tensor([[input_token]])  # Add batch dimension\n",
    "    task_ids = torch.tensor([[task_id]])  # Add batch dimension\n",
    "    segment_ids = torch.tensor([[segment_id]])  # Add batch dimension\n",
    "\n",
    "    embeddings = embedding_layer(input_ids, task_ids, segment_ids)\n",
    "    attention_mask = create_attention_mask(input_ids)\n",
    "    \n",
    "    qg_decoder_output = question_decoder(input_ids, encoder_hidden_states= encoder_outputs, attention_mask= attention_mask)\n",
    "    logits, probabilities = qg_output_layer(qg_decoder_output, encoder_outputs, attention_mask)\n",
    "\n",
    "    next_token_logits = logits[0, -1, :]\n",
    "    next_token_id = torch.argmax(next_token_logits).item()\n",
    "    input_token = next_token_id\n",
    "\n",
    "    if next_token_id == eos_token_id:\n",
    "        break\n",
    "\n",
    "    generated_question.append(next_token_id)\n",
    "\n",
    "# Convert the decoded token IDs back to the original text\n",
    "generated_question = tokenizer.convert_ids_to_tokens(generated_question)\n",
    "generated_question = tokenizer.convert_tokens_to_string(generated_question)"
   ]
  },
  {
   "cell_type": "code",
   "execution_count": 14,
   "metadata": {},
   "outputs": [
    {
     "data": {
      "text/plain": [
       "'situații financiarecutcutcutcutcutcutcutcutcutcutcutcutcutcutcutcutcutcutcutcutcutcutcutcutcutcutcutcutcutcutcutcutcutcutcutcutcutcutcutcutcutcutcutcutcutcutcutcut'"
      ]
     },
     "execution_count": 14,
     "metadata": {},
     "output_type": "execute_result"
    }
   ],
   "source": [
    "generated_question"
   ]
  }
 ],
 "metadata": {
  "kernelspec": {
   "display_name": "Python 3",
   "language": "python",
   "name": "python3"
  },
  "language_info": {
   "codemirror_mode": {
    "name": "ipython",
    "version": 3
   },
   "file_extension": ".py",
   "mimetype": "text/x-python",
   "name": "python",
   "nbconvert_exporter": "python",
   "pygments_lexer": "ipython3",
   "version": "3.8.10"
  },
  "orig_nbformat": 4,
  "vscode": {
   "interpreter": {
    "hash": "916dbcbb3f70747c44a77c7bcd40155683ae19c65e1c03b4aa3499c5328201f1"
   }
  }
 },
 "nbformat": 4,
 "nbformat_minor": 2
}
